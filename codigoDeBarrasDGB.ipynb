{
  "nbformat": 4,
  "nbformat_minor": 0,
  "metadata": {
    "colab": {
      "provenance": [],
      "mount_file_id": "16_vDjSx9aIwVnktuJSxR7ZXO1_JTuJuz",
      "authorship_tag": "ABX9TyPCfRF7Ju/REFhSDeNBRKAB",
      "include_colab_link": true
    },
    "kernelspec": {
      "name": "python3",
      "display_name": "Python 3"
    },
    "language_info": {
      "name": "python"
    }
  },
  "cells": [
    {
      "cell_type": "markdown",
      "metadata": {
        "id": "view-in-github",
        "colab_type": "text"
      },
      "source": [
        "<a href=\"https://colab.research.google.com/github/Georocha/Python/blob/main/codigoDeBarrasDGB.ipynb\" target=\"_parent\"><img src=\"https://colab.research.google.com/assets/colab-badge.svg\" alt=\"Open In Colab\"/></a>"
      ]
    },
    {
      "cell_type": "markdown",
      "source": [],
      "metadata": {
        "id": "IRKjFGh17QUd"
      }
    },
    {
      "cell_type": "code",
      "execution_count": null,
      "metadata": {
        "id": "QHTFXEqiLksP"
      },
      "outputs": [],
      "source": [
        "import openpyxl\n",
        "from barcode import EAN13\n",
        "from barcode.writer import ImageWriter"
      ]
    },
    {
      "cell_type": "code",
      "source": [
        "!pip install python-barcode openpyxl\n"
      ],
      "metadata": {
        "id": "J1nF2UBIOSq8"
      },
      "execution_count": null,
      "outputs": []
    },
    {
      "cell_type": "code",
      "source": [
        "import openpyxl, random, qrcode\n",
        "from barcode import Code128\n",
        "from barcode.writer import ImageWriter"
      ],
      "metadata": {
        "id": "zepS77eIOdyY"
      },
      "execution_count": null,
      "outputs": []
    },
    {
      "cell_type": "markdown",
      "source": [],
      "metadata": {
        "id": "bDhPWZn7Wj4c"
      }
    },
    {
      "cell_type": "code",
      "source": [
        "workbook = openpyxl.Workbook()\n",
        "sheet = workbook.active\n",
        "sheet['A1'] = 'código'\n",
        "\n",
        "for _ in range(100):\n",
        "  codigo_exemplo = f'{random.randint(1000, 9999)}'\n",
        "  sheet.append([codigo_exemplo])\n",
        "\n",
        "workbook.save('inventario.xlsx')"
      ],
      "metadata": {
        "id": "Zj6t99OvOh_v"
      },
      "execution_count": null,
      "outputs": []
    },
    {
      "cell_type": "markdown",
      "source": [
        "#GERADOR QRCODE\n",
        "\n"
      ],
      "metadata": {
        "id": "IQ5p0StUWH1Y"
      }
    },
    {
      "cell_type": "markdown",
      "source": [
        "# Nova seção"
      ],
      "metadata": {
        "id": "ZD771e4V7Y78"
      }
    },
    {
      "cell_type": "markdown",
      "source": [],
      "metadata": {
        "id": "DnM_fTnWWH0d"
      }
    },
    {
      "cell_type": "code",
      "source": [
        "!pip install qrcode[pil] openpyxl"
      ],
      "metadata": {
        "id": "IhueWs82Xcyy"
      },
      "execution_count": null,
      "outputs": []
    },
    {
      "cell_type": "code",
      "source": [
        "workbook =openpyxl.load_workbook('inventario.xlsx')\n",
        "sheet = workbook.active\n",
        "\n",
        "for row in sheet.iter_rows(min_row=2, max_col=1, values_only=True):\n",
        "  codigo = row[0]\n",
        "  code = Code128(codigo, writer=ImageWriter(), add_checksum=False)\n",
        "\n",
        "code.save(f'barcode_{codigo}')\n"
      ],
      "metadata": {
        "id": "uflgMsA3U18g"
      },
      "execution_count": null,
      "outputs": []
    },
    {
      "cell_type": "code",
      "source": [
        "import os"
      ],
      "metadata": {
        "id": "fs6tR4RYb15w"
      },
      "execution_count": null,
      "outputs": []
    },
    {
      "cell_type": "code",
      "source": [
        "import os\n",
        "import openpyxl\n",
        "import qrcode\n",
        "\n",
        "workbook = openpyxl.load_workbook('/content/sample_data/RELATÓRIO DE BENS PROAD (5).xlsx')\n",
        "sheet = workbook.active\n",
        "if not os.path.exists('imagens'):\n",
        "  os.makedirs('imagens')\n",
        "\n",
        "caminho_pasta =\"/qrcodesInventario\"\n",
        "# Para cada linha na coluna 'Código'\n",
        "for row in sheet.iter_rows(min_row=3, max_col=1, values_only=True):\n",
        "    codigo = row[0]\n",
        "\n",
        "    # Gerar o código QR\n",
        "    qr = qrcode.QRCode(\n",
        "        version=1,\n",
        "        error_correction=qrcode.constants.ERROR_CORRECT_L,\n",
        "        box_size=10,\n",
        "        border=4,\n",
        "    )\n",
        "    qr.add_data(codigo)\n",
        "    qr.make(fit=True)\n",
        "\n",
        "    # Criar uma imagem do código QR\n",
        "    qr_image = qr.make_image(fill_color=\"black\", back_color=\"white\")\n",
        "\n",
        "    # Salvar a imagem do código QR\n",
        "    image_path = os.path.join('imagens', f'qrcode_{codigo}.png')\n",
        "    qr_image.save(image_path)"
      ],
      "metadata": {
        "id": "RYrAObFNXmuy"
      },
      "execution_count": null,
      "outputs": []
    },
    {
      "cell_type": "code",
      "source": [],
      "metadata": {
        "id": "XiwUBALMdKLE"
      },
      "execution_count": null,
      "outputs": []
    },
    {
      "cell_type": "markdown",
      "source": [
        "# Nova seção"
      ],
      "metadata": {
        "id": "XsLTg59hXqW4"
      }
    },
    {
      "cell_type": "code",
      "source": [
        "!pip install \"python-barcode[images]\""
      ],
      "metadata": {
        "id": "MOFzFNu6XtvX"
      },
      "execution_count": null,
      "outputs": []
    },
    {
      "cell_type": "code",
      "source": [
        "!pip install openpyxl"
      ],
      "metadata": {
        "id": "1MR218IGYGFy"
      },
      "execution_count": null,
      "outputs": []
    },
    {
      "cell_type": "code",
      "source": [
        "!pip install pillow"
      ],
      "metadata": {
        "id": "z28uYbIRbuBI"
      },
      "execution_count": null,
      "outputs": []
    },
    {
      "cell_type": "code",
      "source": [
        "from barcode import Code128\n",
        "from barcode.writer import ImageWriter\n",
        "\n",
        "workbook = openpyxl.load_workbook(\"/content/sample_data/RELATÓRIO DE BENS PROAD (5).xlsx\");\n",
        "sheet = workbook.active\n",
        "\n",
        "for row in sheet.iter_rows(min_row=3, max_col=5, values_only=True):\n",
        "  codeBar = row[0]\n",
        "\n",
        "  code = Code128(codeBar, writer=ImageWriter())\n",
        "\n",
        "  fullcode = code.save(f'barcode_{codeBar}')\n"
      ],
      "metadata": {
        "id": "1zhU6XLcYL7a"
      },
      "execution_count": null,
      "outputs": []
    },
    {
      "cell_type": "code",
      "source": [],
      "metadata": {
        "id": "PcZwTdyVhvVd"
      },
      "execution_count": null,
      "outputs": []
    },
    {
      "cell_type": "markdown",
      "source": [
        "# Nova seção"
      ],
      "metadata": {
        "id": "SaZWEybNhvwd"
      }
    },
    {
      "cell_type": "code",
      "source": [
        "import pandas"
      ],
      "metadata": {
        "id": "iCXpafPhjvJI"
      },
      "execution_count": null,
      "outputs": []
    },
    {
      "cell_type": "code",
      "source": [
        "import pandas as pd\n",
        "from barcode import EAN13\n",
        "from barcode.writer import ImageWriter\n",
        "\n",
        "excel_file = \"/content/sample_data/RELATÓRIO DE BENS PROAD (5).xlsx\"\n",
        "df = pd.read_excel(excel_file)\n",
        "numbersCode = df.iloc[: 0]\n",
        "\n",
        "output_folder = \"/content/drive/MyDrive/Bolsa IFS DGB/qrcode\"\n",
        "\n",
        "for num in numbersCode:\n",
        "\n",
        "  ean = EAN13(num, writer=ImageWriter(), guardbar= output_folder)\n",
        "  filename = ean.save(num)\n",
        "  print(f'código de barras para {num} salvo como filename {filename}.png')\n",
        "\n"
      ],
      "metadata": {
        "id": "uDX2H-lohw08"
      },
      "execution_count": null,
      "outputs": []
    }
  ]
}